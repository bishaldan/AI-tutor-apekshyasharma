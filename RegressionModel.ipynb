{
 "cells": [
  {
   "cell_type": "code",
   "execution_count": 2,
   "id": "c8731814-83e6-4173-b9b8-7b1019a2248b",
   "metadata": {},
   "outputs": [],
   "source": [
    "import numpy as np\n",
    "import pandas as pd\n",
    "import matplotlib.pyplot as plt\n",
    "from sklearn.model_selection import train_test_split\n",
    "from sklearn.linear_model import LinearRegression\n",
    "from sklearn.metrics import mean_squared_error, r2_score"
   ]
  },
  {
   "cell_type": "markdown",
   "id": "8ba5d68b-3bc3-42e5-ae42-52af2beec543",
   "metadata": {},
   "source": [
    "### Data Preparation"
   ]
  },
  {
   "cell_type": "code",
   "execution_count": 3,
   "id": "aa61e93a-8f7a-4c0c-8940-df26256ee06c",
   "metadata": {},
   "outputs": [
    {
     "data": {
      "text/html": [
       "<div>\n",
       "<style scoped>\n",
       "    .dataframe tbody tr th:only-of-type {\n",
       "        vertical-align: middle;\n",
       "    }\n",
       "\n",
       "    .dataframe tbody tr th {\n",
       "        vertical-align: top;\n",
       "    }\n",
       "\n",
       "    .dataframe thead th {\n",
       "        text-align: right;\n",
       "    }\n",
       "</style>\n",
       "<table border=\"1\" class=\"dataframe\">\n",
       "  <thead>\n",
       "    <tr style=\"text-align: right;\">\n",
       "      <th></th>\n",
       "      <th>Unnamed: 0</th>\n",
       "      <th>YearsExperience</th>\n",
       "      <th>Salary</th>\n",
       "    </tr>\n",
       "  </thead>\n",
       "  <tbody>\n",
       "    <tr>\n",
       "      <th>0</th>\n",
       "      <td>0</td>\n",
       "      <td>1.2</td>\n",
       "      <td>39344.0</td>\n",
       "    </tr>\n",
       "    <tr>\n",
       "      <th>1</th>\n",
       "      <td>1</td>\n",
       "      <td>1.4</td>\n",
       "      <td>46206.0</td>\n",
       "    </tr>\n",
       "    <tr>\n",
       "      <th>2</th>\n",
       "      <td>2</td>\n",
       "      <td>1.6</td>\n",
       "      <td>37732.0</td>\n",
       "    </tr>\n",
       "    <tr>\n",
       "      <th>3</th>\n",
       "      <td>3</td>\n",
       "      <td>2.1</td>\n",
       "      <td>43526.0</td>\n",
       "    </tr>\n",
       "    <tr>\n",
       "      <th>4</th>\n",
       "      <td>4</td>\n",
       "      <td>2.3</td>\n",
       "      <td>39892.0</td>\n",
       "    </tr>\n",
       "    <tr>\n",
       "      <th>5</th>\n",
       "      <td>5</td>\n",
       "      <td>3.0</td>\n",
       "      <td>56643.0</td>\n",
       "    </tr>\n",
       "    <tr>\n",
       "      <th>6</th>\n",
       "      <td>6</td>\n",
       "      <td>3.1</td>\n",
       "      <td>60151.0</td>\n",
       "    </tr>\n",
       "    <tr>\n",
       "      <th>7</th>\n",
       "      <td>7</td>\n",
       "      <td>3.3</td>\n",
       "      <td>54446.0</td>\n",
       "    </tr>\n",
       "    <tr>\n",
       "      <th>8</th>\n",
       "      <td>8</td>\n",
       "      <td>3.3</td>\n",
       "      <td>64446.0</td>\n",
       "    </tr>\n",
       "    <tr>\n",
       "      <th>9</th>\n",
       "      <td>9</td>\n",
       "      <td>3.8</td>\n",
       "      <td>57190.0</td>\n",
       "    </tr>\n",
       "    <tr>\n",
       "      <th>10</th>\n",
       "      <td>10</td>\n",
       "      <td>4.0</td>\n",
       "      <td>63219.0</td>\n",
       "    </tr>\n",
       "    <tr>\n",
       "      <th>11</th>\n",
       "      <td>11</td>\n",
       "      <td>4.1</td>\n",
       "      <td>55795.0</td>\n",
       "    </tr>\n",
       "    <tr>\n",
       "      <th>12</th>\n",
       "      <td>12</td>\n",
       "      <td>4.1</td>\n",
       "      <td>56958.0</td>\n",
       "    </tr>\n",
       "    <tr>\n",
       "      <th>13</th>\n",
       "      <td>13</td>\n",
       "      <td>4.2</td>\n",
       "      <td>57082.0</td>\n",
       "    </tr>\n",
       "    <tr>\n",
       "      <th>14</th>\n",
       "      <td>14</td>\n",
       "      <td>4.6</td>\n",
       "      <td>61112.0</td>\n",
       "    </tr>\n",
       "    <tr>\n",
       "      <th>15</th>\n",
       "      <td>15</td>\n",
       "      <td>5.0</td>\n",
       "      <td>67939.0</td>\n",
       "    </tr>\n",
       "    <tr>\n",
       "      <th>16</th>\n",
       "      <td>16</td>\n",
       "      <td>5.2</td>\n",
       "      <td>66030.0</td>\n",
       "    </tr>\n",
       "    <tr>\n",
       "      <th>17</th>\n",
       "      <td>17</td>\n",
       "      <td>5.4</td>\n",
       "      <td>83089.0</td>\n",
       "    </tr>\n",
       "    <tr>\n",
       "      <th>18</th>\n",
       "      <td>18</td>\n",
       "      <td>6.0</td>\n",
       "      <td>81364.0</td>\n",
       "    </tr>\n",
       "    <tr>\n",
       "      <th>19</th>\n",
       "      <td>19</td>\n",
       "      <td>6.1</td>\n",
       "      <td>93941.0</td>\n",
       "    </tr>\n",
       "    <tr>\n",
       "      <th>20</th>\n",
       "      <td>20</td>\n",
       "      <td>6.9</td>\n",
       "      <td>91739.0</td>\n",
       "    </tr>\n",
       "    <tr>\n",
       "      <th>21</th>\n",
       "      <td>21</td>\n",
       "      <td>7.2</td>\n",
       "      <td>98274.0</td>\n",
       "    </tr>\n",
       "    <tr>\n",
       "      <th>22</th>\n",
       "      <td>22</td>\n",
       "      <td>8.0</td>\n",
       "      <td>101303.0</td>\n",
       "    </tr>\n",
       "    <tr>\n",
       "      <th>23</th>\n",
       "      <td>23</td>\n",
       "      <td>8.3</td>\n",
       "      <td>113813.0</td>\n",
       "    </tr>\n",
       "    <tr>\n",
       "      <th>24</th>\n",
       "      <td>24</td>\n",
       "      <td>8.8</td>\n",
       "      <td>109432.0</td>\n",
       "    </tr>\n",
       "    <tr>\n",
       "      <th>25</th>\n",
       "      <td>25</td>\n",
       "      <td>9.1</td>\n",
       "      <td>105583.0</td>\n",
       "    </tr>\n",
       "    <tr>\n",
       "      <th>26</th>\n",
       "      <td>26</td>\n",
       "      <td>9.6</td>\n",
       "      <td>116970.0</td>\n",
       "    </tr>\n",
       "    <tr>\n",
       "      <th>27</th>\n",
       "      <td>27</td>\n",
       "      <td>9.7</td>\n",
       "      <td>112636.0</td>\n",
       "    </tr>\n",
       "    <tr>\n",
       "      <th>28</th>\n",
       "      <td>28</td>\n",
       "      <td>10.4</td>\n",
       "      <td>122392.0</td>\n",
       "    </tr>\n",
       "    <tr>\n",
       "      <th>29</th>\n",
       "      <td>29</td>\n",
       "      <td>10.6</td>\n",
       "      <td>121873.0</td>\n",
       "    </tr>\n",
       "  </tbody>\n",
       "</table>\n",
       "</div>"
      ],
      "text/plain": [
       "    Unnamed: 0  YearsExperience    Salary\n",
       "0            0              1.2   39344.0\n",
       "1            1              1.4   46206.0\n",
       "2            2              1.6   37732.0\n",
       "3            3              2.1   43526.0\n",
       "4            4              2.3   39892.0\n",
       "5            5              3.0   56643.0\n",
       "6            6              3.1   60151.0\n",
       "7            7              3.3   54446.0\n",
       "8            8              3.3   64446.0\n",
       "9            9              3.8   57190.0\n",
       "10          10              4.0   63219.0\n",
       "11          11              4.1   55795.0\n",
       "12          12              4.1   56958.0\n",
       "13          13              4.2   57082.0\n",
       "14          14              4.6   61112.0\n",
       "15          15              5.0   67939.0\n",
       "16          16              5.2   66030.0\n",
       "17          17              5.4   83089.0\n",
       "18          18              6.0   81364.0\n",
       "19          19              6.1   93941.0\n",
       "20          20              6.9   91739.0\n",
       "21          21              7.2   98274.0\n",
       "22          22              8.0  101303.0\n",
       "23          23              8.3  113813.0\n",
       "24          24              8.8  109432.0\n",
       "25          25              9.1  105583.0\n",
       "26          26              9.6  116970.0\n",
       "27          27              9.7  112636.0\n",
       "28          28             10.4  122392.0\n",
       "29          29             10.6  121873.0"
      ]
     },
     "execution_count": 3,
     "metadata": {},
     "output_type": "execute_result"
    }
   ],
   "source": [
    "# Importing the dataset\n",
    "df=pd.read_csv(\"Salary_dataset.csv\", low_memory=False)\n",
    "df"
   ]
  },
  {
   "cell_type": "markdown",
   "id": "286931e7-b2e7-4782-91a9-e9b0da591d20",
   "metadata": {},
   "source": [
    "### Dropping unwanted column"
   ]
  },
  {
   "cell_type": "code",
   "execution_count": 4,
   "id": "19640f98-ba5f-4b35-ba2b-5f7b5ceaf4d1",
   "metadata": {},
   "outputs": [
    {
     "name": "stdout",
     "output_type": "stream",
     "text": [
      "Dataset shape after cleaning: (30, 2)\n",
      "   YearsExperience   Salary\n",
      "0              1.2  39344.0\n",
      "1              1.4  46206.0\n",
      "2              1.6  37732.0\n",
      "3              2.1  43526.0\n",
      "4              2.3  39892.0\n"
     ]
    }
   ],
   "source": [
    "df = df.drop('Unnamed: 0', axis=1)\n",
    "print(\"Dataset shape after cleaning:\", df.shape)\n",
    "print(df.head())"
   ]
  },
  {
   "cell_type": "code",
   "execution_count": 5,
   "id": "d72814c7-f061-4f3f-9792-481264a26a81",
   "metadata": {},
   "outputs": [],
   "source": [
    "X = df[['YearsExperience']]  #independent variable\n",
    "y = df['Salary'] #dependent variable"
   ]
  },
  {
   "cell_type": "markdown",
   "id": "9b0efd44-9b39-43d6-86e8-991ebb062b94",
   "metadata": {},
   "source": [
    "### Training the model using Scikit Learn"
   ]
  },
  {
   "cell_type": "code",
   "execution_count": 98,
   "id": "3f193083-e060-42f9-b22d-dce750121837",
   "metadata": {},
   "outputs": [],
   "source": [
    "#Train-Test Split data\n",
    "X_train, X_test, y_train, y_test = train_test_split(X, y, test_size=0.2, random_state=42)"
   ]
  },
  {
   "cell_type": "code",
   "execution_count": 99,
   "id": "0aecbbd7-d084-42a4-80f8-b1f7dafd9722",
   "metadata": {},
   "outputs": [
    {
     "name": "stdout",
     "output_type": "stream",
     "text": [
      "Training set size: 24\n",
      "Test set size: 6\n"
     ]
    }
   ],
   "source": [
    "print(f\"Training set size: {X_train.shape[0]}\")\n",
    "print(f\"Test set size: {X_test.shape[0]}\")"
   ]
  },
  {
   "cell_type": "code",
   "execution_count": 100,
   "id": "9b7d77c3-a93a-4b14-b9eb-4a04a1396c72",
   "metadata": {},
   "outputs": [
    {
     "name": "stdout",
     "output_type": "stream",
     "text": [
      "Intercept: 24380.20, Slope: 9423.82\n"
     ]
    }
   ],
   "source": [
    "# Model Training\n",
    "model = LinearRegression()\n",
    "model.fit(X_train, y_train)\n",
    "print(f\"Intercept: {model.intercept_:.2f}, Slope: {model.coef_[0]:.2f}\")"
   ]
  },
  {
   "cell_type": "code",
   "execution_count": 101,
   "id": "12cdbdae-c77f-4eb5-bf9f-48339dab58aa",
   "metadata": {},
   "outputs": [],
   "source": [
    "# Making predictions\n",
    "y_train_pred = model.predict(X_train)\n",
    "y_test_pred = model.predict(X_test)"
   ]
  },
  {
   "cell_type": "markdown",
   "id": "a7f05a16-9f6a-470c-9959-734cbf92b903",
   "metadata": {},
   "source": [
    "### Model Evaluation"
   ]
  },
  {
   "cell_type": "code",
   "execution_count": 102,
   "id": "03ad9f22-7e26-43c9-bd59-0e4a25ad067d",
   "metadata": {},
   "outputs": [
    {
     "name": "stdout",
     "output_type": "stream",
     "text": [
      "The r2 score performance for training dataset is: 0.9024461774180498\n",
      "The r2 score performance for testing dataset is: 0.9024461774180498\n",
      "The rmse value for the training dataset is: 5205.982110155715\n",
      "The rmse value for the testing dataset is: 7059.043621901506\n",
      "The mse value for train data is: 27102249.731261354 and for the test data is: 27102249.731261354\n"
     ]
    }
   ],
   "source": [
    "# Evaluating model's performance\n",
    "train_r2 = r2_score(y_train, y_train_pred)\n",
    "test_r2 = r2_score(y_test, y_test_pred)\n",
    "train_rmse = np.sqrt(mean_squared_error(y_train, y_train_pred))\n",
    "test_rmse = np.sqrt(mean_squared_error(y_test, y_test_pred))\n",
    "print(f\"The r2 score performance for training dataset is: {test_r2}\")\n",
    "print(f\"The r2 score performance for testing dataset is: {test_r2}\")\n",
    "print(f\"The rmse value for the training dataset is: {train_rmse}\")\n",
    "print(f\"The rmse value for the testing dataset is: {test_rmse}\")\n",
    "train_mse=mean_squared_error(y_train, y_train_pred)\n",
    "test_mse=mean_squared_error(y_train,y_train_pred)\n",
    "print(f\"The mse value for train data is: {train_mse} and for the test data is: {test_mse}\")"
   ]
  },
  {
   "cell_type": "markdown",
   "id": "4153c47b-35de-4723-a714-c93e4a0e19be",
   "metadata": {},
   "source": [
    "### Implementation of Gradient Descent"
   ]
  },
  {
   "cell_type": "code",
   "execution_count": 103,
   "id": "a14b5557-8090-4958-a3b6-83aeffaad518",
   "metadata": {},
   "outputs": [],
   "source": [
    "# Convert data to numpy arrays for easier calculations\n",
    "X_train_gd = X_train.values.flatten()\n",
    "y_train_gd = y_train.values.flatten()"
   ]
  },
  {
   "cell_type": "code",
   "execution_count": 104,
   "id": "2e9c53bb-137f-45c5-944d-b9701a2f7fd0",
   "metadata": {},
   "outputs": [],
   "source": [
    "# Initialize parameters and hyperparameters\n",
    "w = 0  # Slope \n",
    "b = 0  # Intercept \n",
    "iterations = 1000  # Number of steps\n",
    "alpha = 0.01  # Learning rate"
   ]
  },
  {
   "cell_type": "code",
   "execution_count": 105,
   "id": "a13119a1-329e-442a-bb13-2190a34c0643",
   "metadata": {},
   "outputs": [],
   "source": [
    "#  Defining the cost function\n",
    "def compute_cost(X, y, w, b):\n",
    "    m = X.shape[0]\n",
    "    cost = (1/(2*m)) * np.sum((w * X + b - y)**2)\n",
    "    return cost"
   ]
  },
  {
   "cell_type": "code",
   "execution_count": 106,
   "id": "ef504ead-8ee9-418c-b5ee-94d363797b43",
   "metadata": {},
   "outputs": [],
   "source": [
    "def compute_gradient(X, y, w, b):\n",
    "    m = X.shape[0]\n",
    "    dj_dw = (1/m) * np.sum((w * X + b - y) * X)\n",
    "    dj_db = (1/m) * np.sum(w * X + b - y)\n",
    "    return dj_dw, dj_db"
   ]
  },
  {
   "cell_type": "code",
   "execution_count": 107,
   "id": "ace2aa7a-6b29-4747-992c-369496d2d5f0",
   "metadata": {},
   "outputs": [
    {
     "name": "stdout",
     "output_type": "stream",
     "text": [
      "Iteration 0: Cost = 1286096426.10\n",
      "Iteration 100: Cost = 50427402.00\n",
      "Iteration 200: Cost = 37092906.86\n",
      "Iteration 300: Cost = 28580177.21\n",
      "Iteration 400: Cost = 23145658.30\n",
      "Iteration 500: Cost = 19676266.34\n",
      "Iteration 600: Cost = 17461409.65\n",
      "Iteration 700: Cost = 16047447.13\n",
      "Iteration 800: Cost = 15144774.75\n",
      "Iteration 900: Cost = 14568509.51\n",
      "\n",
      "Final parameters after gradient descent:\n",
      "Slope (w): 9774.10, Intercept (b): 21993.00\n"
     ]
    }
   ],
   "source": [
    "# 4. Run the gradient descent loop\n",
    "for i in range(iterations):\n",
    "    dj_dw, dj_db = compute_gradient(X_train_gd, y_train_gd, w, b)\n",
    "    w = w - alpha * dj_dw\n",
    "    b = b - alpha * dj_db\n",
    "\n",
    "    if i % 100 == 0:\n",
    "        cost = compute_cost(X_train_gd, y_train_gd, w, b)\n",
    "        print(f\"Iteration {i}: Cost = {cost:.2f}\")\n",
    "\n",
    "print(\"\\nFinal parameters after gradient descent:\")\n",
    "print(f\"Slope (w): {w:.2f}, Intercept (b): {b:.2f}\")"
   ]
  },
  {
   "cell_type": "markdown",
   "id": "3dd229ac-7937-466c-a593-71f9903dbc0f",
   "metadata": {},
   "source": [
    "### Model Evaluation"
   ]
  },
  {
   "cell_type": "code",
   "execution_count": 108,
   "id": "d0bee447-7870-4419-b6f0-89e05ab767a7",
   "metadata": {},
   "outputs": [
    {
     "name": "stdout",
     "output_type": "stream",
     "text": [
      "Test RMSE (GD): 7271.32\n",
      "Test R2 Score (GD): 0.90\n"
     ]
    }
   ],
   "source": [
    "# 5. Make predictions and evaluate the model\n",
    "y_test_pred_gd = w * X_test.values.flatten() + b\n",
    "rmse_gd = np.sqrt(mean_squared_error(y_test, y_test_pred_gd))\n",
    "r2_gd = r2_score(y_test, y_test_pred_gd)\n",
    "print(f\"Test RMSE (GD): {rmse_gd:.2f}\")\n",
    "print(f\"Test R2 Score (GD): {r2_gd:.2f}\")"
   ]
  },
  {
   "cell_type": "markdown",
   "id": "0c905d41-d6f2-4c2f-bec2-e802b64f15e2",
   "metadata": {},
   "source": [
    "### Model Visualization"
   ]
  },
  {
   "cell_type": "code",
   "execution_count": 109,
   "id": "191486c6-12ed-4a4e-a1a4-2ef04f91a408",
   "metadata": {},
   "outputs": [
    {
     "name": "stderr",
     "output_type": "stream",
     "text": [
      "C:\\Users\\ghimi\\anaconda3\\Lib\\site-packages\\sklearn\\base.py:493: UserWarning: X does not have valid feature names, but LinearRegression was fitted with feature names\n",
      "  warnings.warn(\n"
     ]
    },
    {
     "data": {
      "image/png": "[encoded data removed]",
      "text/plain": [
       "<Figure size 1000x600 with 1 Axes>"
      ]
     },
     "metadata": {},
     "output_type": "display_data"
    }
   ],
   "source": [
    "plt.figure(figsize=(10, 6))\n",
    "# Plot the original data points as a scatter plot\n",
    "plt.scatter(X, y, color='blue', label='Actual Data')\n",
    "# Create a range of x values to draw a smooth regression line\n",
    "x_line = np.linspace(X.min(), X.max(), 100).reshape(-1, 1)\n",
    "# Use your trained model to predict the corresponding y values for the line\n",
    "y_line = model.predict(x_line)\n",
    "# Plot the regression line\n",
    "plt.plot(x_line, y_line, color='red', linewidth=3, label='Regression Line')\n",
    "# Add labels, a title, and a legend for clarity\n",
    "plt.title('Linear Regression Model Visualization')\n",
    "plt.xlabel('Years of Experience')\n",
    "plt.ylabel('Salary')\n",
    "plt.grid(True)\n",
    "plt.legend()\n",
    "plt.show()"
   ]
  },
  {
   "cell_type": "code",
   "execution_count": null,
   "id": "a6d4c3a0-9ae6-4c7e-bed5-e1c812921a7a",
   "metadata": {},
   "outputs": [],
   "source": []
  }
 ],
 "metadata": {
  "kernelspec": {
   "display_name": "Python 3 (ipykernel)",
   "language": "python",
   "name": "python3"
  },
  "language_info": {
   "codemirror_mode": {
    "name": "ipython",
    "version": 3
   },
   "file_extension": ".py",
   "mimetype": "text/x-python",
   "name": "python",
   "nbconvert_exporter": "python",
   "pygments_lexer": "ipython3",
   "version": "3.12.7"
  }
 },
 "nbformat": 4,
 "nbformat_minor": 5
}
